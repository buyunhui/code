{
 "cells": [
  {
   "cell_type": "markdown",
   "metadata": {},
   "source": [
    "##   python 变量搜索方式"
   ]
  },
  {
   "cell_type": "code",
   "execution_count": 6,
   "metadata": {},
   "outputs": [
    {
     "name": "stdout",
     "output_type": "stream",
     "text": [
      "d <__main__.Descriptor object at 0x0000028CE6D29D68>\n",
      "('get', <__main__.Descriptor object at 0x0000028CE6D29D68>, <__main__.T object at 0x0000028CE6D29B70>, <class '__main__.T'>)\n",
      "('get', <__main__.Descriptor object at 0x0000028CE6D29D68>, None, <class '__main__.T'>)\n"
     ]
    }
   ],
   "source": [
    "\n",
    "        "
   ]
  },
  {
   "cell_type": "markdown",
   "metadata": {},
   "source": [
    "### 1. 全局变量, 局部变量， 闭包"
   ]
  },
  {
   "cell_type": "code",
   "execution_count": 7,
   "metadata": {},
   "outputs": [
    {
     "name": "stdout",
     "output_type": "stream",
     "text": [
      "var_1\n",
      "var_2\n",
      "0\n",
      "[1, 2, 3]\n",
      "[]\n",
      "[1, 2, [3]]\n",
      "[1, 2, [3]]\n",
      "[1, 2, [3]]\n"
     ]
    }
   ],
   "source": [
    "global g_var # 只能声明\n",
    "\n",
    "g_var = 'var_1'\n",
    "\n",
    "def not_change():\n",
    "    g_var = 'var_2'\n",
    "\n",
    "not_change()\n",
    "print(g_var) #  'var_1'\n",
    "\n",
    "def change():\n",
    "    global g_var\n",
    "    g_var = 'var_2'\n",
    "    \n",
    "    \n",
    "change()    \n",
    "print(g_var) #  'var_2'\n",
    "\n",
    "\n",
    "def closer():\n",
    "    c_var_1 = 1\n",
    "    c_var_2 = 2\n",
    "    \n",
    "    def inner():\n",
    "        nonlocal c_var_1\n",
    "        c_var_1 = 0  #  正常修改\n",
    "    inner()\n",
    "    print(c_var_1) # 0\n",
    "    \n",
    "closer()\n",
    "\n",
    "seq = [1,2,3]\n",
    "\n",
    "copy_seq = seq\n",
    "\n",
    "print(copy_seq)\n",
    "seq.clear()\n",
    "print(copy_seq)\n",
    "\n",
    "seq = [1,2,[3]]\n",
    "\n",
    "import copy\n",
    "copy_seq = copy.copy(seq)\n",
    "\n",
    "print(copy_seq)\n",
    "seq.clear()\n",
    "print(copy_seq)\n",
    "del seq\n",
    "print(copy_seq)"
   ]
  },
  {
   "cell_type": "code",
   "execution_count": 2,
   "metadata": {},
   "outputs": [
    {
     "name": "stdout",
     "output_type": "stream",
     "text": [
      "After local assignmane: test spam\n",
      "After nonlocal assignment: nonlocal spam\n",
      "spam global spam\n",
      "2 2602765965040\n",
      "3 2602765965168\n",
      "After global assignment: nonlocal spam\n",
      "4 2602765965040\n",
      "In global scope: global spam\n"
     ]
    }
   ],
   "source": [
    "def scope_test():\n",
    "    def do_local():\n",
    "        spam = \"local spam\" #此函数定义了另外的一个spam字符串变量，并且生命周期只在此函数内。此处的spam和外层的spam是两个变量，如果写出spam = spam + “local spam” 会报错\n",
    "    def do_nonlocal():\n",
    "        nonlocal  spam        #使用外层的spam变量\n",
    "        spam = \"nonlocal spam\"\n",
    "    def do_global():\n",
    "        global spam\n",
    "        spam = \"global spam\"\n",
    "        print(\"spam\", spam)\n",
    "        print(2, id(spam))\n",
    "        \n",
    "    spam = \"test spam\"\n",
    "    do_local()\n",
    "    print(\"After local assignmane:\", spam) # test spam\n",
    "    do_nonlocal()\n",
    "    print(\"After nonlocal assignment:\",spam) # nonlocal spam\n",
    "    do_global()\n",
    "    print(3,id(spam))\n",
    "    print(\"After global assignment:\",spam)\n",
    " \n",
    "scope_test()\n",
    "print(4,id(spam))\n",
    "print(\"In global scope:\",spam)"
   ]
  },
  {
   "cell_type": "code",
   "execution_count": 30,
   "metadata": {},
   "outputs": [
    {
     "name": "stdout",
     "output_type": "stream",
     "text": [
      "===========1============\n",
      "===========2=============\n",
      "===========3=============\n",
      "=============4==========\n",
      "set <__main__.DataDescriptor object at 0x0000025E00F7B7F0> <__main__.T object at 0x0000025E00F7B8D0> obj_d\n",
      "\n",
      "\n",
      "=======================\n",
      "('get', <__main__.DataDescriptor object at 0x0000025E00F7B7F0>, <__main__.T object at 0x0000025E00F7B8D0>, <class '__main__.T'>)\n",
      "=======================\n",
      "('get', <__main__.DataDescriptor object at 0x0000025E00F7B7F0>, None, <class '__main__.T'>)\n",
      "\n",
      "\n",
      "=======================\n",
      "obj_nd\n",
      "=======================\n",
      "('get', <__main__.NoDataDescriptor object at 0x0000025E00F7B828>, None, <class '__main__.T'>)\n",
      "\n",
      "\n",
      "=======================\n",
      "<__main__.DataDescriptor object at 0x0000025E00F7B908>\n",
      "class\n",
      "\n",
      "\n",
      "=======================\n",
      "<__main__.NoDataDescriptor object at 0x0000025E00F7B940>\n",
      "ndcalss\n"
     ]
    }
   ],
   "source": [
    "# 类属性\n",
    "class DataDescriptor(object):  \n",
    "    def __get__(self, obj, cls=None):  \n",
    "            return 'get', self, obj, cls  \n",
    "    def __set__(self, obj, val):  \n",
    "        print( 'set', self, obj, val ) \n",
    "    def __delete__(self, obj):  \n",
    "        print ( 'set', self, obj, val ) \n",
    "        \n",
    "class NoDataDescriptor(object):  \n",
    "    def __get__(self, obj, cls=None):  \n",
    "            return 'get', self, obj, cls  \n",
    "   \n",
    "        \n",
    "        \n",
    "class T(object):  \n",
    "    print('===========1============')\n",
    "    d = DataDescriptor()\n",
    "    print('===========2=============')\n",
    "    nd = NoDataDescriptor()\n",
    "    print('===========3=============')\n",
    "    nd1 = NoDataDescriptor()\n",
    "    \n",
    "    \n",
    "    cd = 'class'\n",
    "    cnd = NoDataDescriptor()\n",
    "    cnd = 'ndcalss'\n",
    "    \n",
    "    def __init__(self):\n",
    "        self.d = 'obj_d'\n",
    "        self.nd = 'obj_nd'\n",
    "        self.cd = DataDescriptor() \n",
    "        self.cnd = NoDataDescriptor()\n",
    "        \n",
    "        pass  \n",
    "print('=============4==========')\n",
    "t = T()  \n",
    "\n",
    "print('\\n\\n=======================')\n",
    "print(t.d)\n",
    "print('=======================')\n",
    "print(T.d)\n",
    "\n",
    "print('\\n\\n=======================')\n",
    "print(t.nd)\n",
    "print('=======================')\n",
    "print(T.nd)\n",
    "\n",
    "print('\\n\\n=======================')\n",
    "print(t.cd)\n",
    "print(T.cd)\n",
    "\n",
    "print('\\n\\n=======================')\n",
    "print(t.cnd)\n",
    "print(T.cnd)\n",
    "    \n",
    "    "
   ]
  },
  {
   "cell_type": "code",
   "execution_count": null,
   "metadata": {},
   "outputs": [],
   "source": []
  }
 ],
 "metadata": {
  "kernelspec": {
   "display_name": "Python 3",
   "language": "python",
   "name": "python3"
  },
  "language_info": {
   "codemirror_mode": {
    "name": "ipython",
    "version": 3
   },
   "file_extension": ".py",
   "mimetype": "text/x-python",
   "name": "python",
   "nbconvert_exporter": "python",
   "pygments_lexer": "ipython3",
   "version": "3.7.0"
  }
 },
 "nbformat": 4,
 "nbformat_minor": 2
}
